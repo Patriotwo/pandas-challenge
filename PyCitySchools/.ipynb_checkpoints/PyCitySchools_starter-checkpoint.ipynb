{
 "cells": [
  {
   "cell_type": "markdown",
   "metadata": {},
   "source": [
    "### Note\n",
    "* Instructions have been included for each segment. You do not have to follow them exactly, but they are included to help you think through the steps."
   ]
  },
  {
   "cell_type": "code",
   "execution_count": 1,
   "metadata": {},
   "outputs": [
    {
     "ename": "KeyboardInterrupt",
     "evalue": "",
     "output_type": "error",
     "traceback": [
      "\u001b[1;31m---------------------------------------------------------------------------\u001b[0m",
      "\u001b[1;31mKeyboardInterrupt\u001b[0m                         Traceback (most recent call last)",
      "\u001b[1;32m<ipython-input-1-4e03b00e8ffd>\u001b[0m in \u001b[0;36m<module>\u001b[1;34m\u001b[0m\n\u001b[0;32m      1\u001b[0m \u001b[1;31m# Dependencies and Setup\u001b[0m\u001b[1;33m\u001b[0m\u001b[1;33m\u001b[0m\u001b[1;33m\u001b[0m\u001b[0m\n\u001b[1;32m----> 2\u001b[1;33m \u001b[1;32mimport\u001b[0m \u001b[0mpandas\u001b[0m \u001b[1;32mas\u001b[0m \u001b[0mpd\u001b[0m\u001b[1;33m\u001b[0m\u001b[1;33m\u001b[0m\u001b[0m\n\u001b[0m\u001b[0;32m      3\u001b[0m \u001b[1;32mimport\u001b[0m \u001b[0mnumpy\u001b[0m \u001b[1;32mas\u001b[0m \u001b[0mnp\u001b[0m\u001b[1;33m\u001b[0m\u001b[1;33m\u001b[0m\u001b[0m\n\u001b[0;32m      4\u001b[0m \u001b[1;32mfrom\u001b[0m \u001b[0mglob\u001b[0m \u001b[1;32mimport\u001b[0m \u001b[0mglob\u001b[0m\u001b[1;33m\u001b[0m\u001b[1;33m\u001b[0m\u001b[0m\n",
      "\u001b[1;32m~\\anaconda3\\lib\\site-packages\\pandas\\__init__.py\u001b[0m in \u001b[0;36m<module>\u001b[1;34m\u001b[0m\n\u001b[0;32m      9\u001b[0m \u001b[1;32mfor\u001b[0m \u001b[0mdependency\u001b[0m \u001b[1;32min\u001b[0m \u001b[0mhard_dependencies\u001b[0m\u001b[1;33m:\u001b[0m\u001b[1;33m\u001b[0m\u001b[1;33m\u001b[0m\u001b[0m\n\u001b[0;32m     10\u001b[0m     \u001b[1;32mtry\u001b[0m\u001b[1;33m:\u001b[0m\u001b[1;33m\u001b[0m\u001b[1;33m\u001b[0m\u001b[0m\n\u001b[1;32m---> 11\u001b[1;33m         \u001b[0m__import__\u001b[0m\u001b[1;33m(\u001b[0m\u001b[0mdependency\u001b[0m\u001b[1;33m)\u001b[0m\u001b[1;33m\u001b[0m\u001b[1;33m\u001b[0m\u001b[0m\n\u001b[0m\u001b[0;32m     12\u001b[0m     \u001b[1;32mexcept\u001b[0m \u001b[0mImportError\u001b[0m \u001b[1;32mas\u001b[0m \u001b[0me\u001b[0m\u001b[1;33m:\u001b[0m\u001b[1;33m\u001b[0m\u001b[1;33m\u001b[0m\u001b[0m\n\u001b[0;32m     13\u001b[0m         \u001b[0mmissing_dependencies\u001b[0m\u001b[1;33m.\u001b[0m\u001b[0mappend\u001b[0m\u001b[1;33m(\u001b[0m\u001b[1;34mf\"{dependency}: {e}\"\u001b[0m\u001b[1;33m)\u001b[0m\u001b[1;33m\u001b[0m\u001b[1;33m\u001b[0m\u001b[0m\n",
      "\u001b[1;32m~\\anaconda3\\lib\\importlib\\_bootstrap.py\u001b[0m in \u001b[0;36m_find_and_load\u001b[1;34m(name, import_)\u001b[0m\n",
      "\u001b[1;32m~\\anaconda3\\lib\\importlib\\_bootstrap.py\u001b[0m in \u001b[0;36m_find_and_load_unlocked\u001b[1;34m(name, import_)\u001b[0m\n",
      "\u001b[1;32m~\\anaconda3\\lib\\importlib\\_bootstrap.py\u001b[0m in \u001b[0;36m_load_unlocked\u001b[1;34m(spec)\u001b[0m\n",
      "\u001b[1;32m~\\anaconda3\\lib\\importlib\\_bootstrap_external.py\u001b[0m in \u001b[0;36mexec_module\u001b[1;34m(self, module)\u001b[0m\n",
      "\u001b[1;32m~\\anaconda3\\lib\\importlib\\_bootstrap_external.py\u001b[0m in \u001b[0;36mget_code\u001b[1;34m(self, fullname)\u001b[0m\n",
      "\u001b[1;32m~\\anaconda3\\lib\\importlib\\_bootstrap_external.py\u001b[0m in \u001b[0;36mget_data\u001b[1;34m(self, path)\u001b[0m\n",
      "\u001b[1;31mKeyboardInterrupt\u001b[0m: "
     ]
    }
   ],
   "source": [
    "# Dependencies and Setup\n",
    "import pandas as pd\n",
    "import numpy as np\n",
    "from glob import glob"
   ]
  },
  {
   "cell_type": "code",
   "execution_count": null,
   "metadata": {},
   "outputs": [],
   "source": [
    "# File to Load (Remember to Change These)\n",
    "schools_data = (\"../Resources/schools_complete.csv\") \n",
    "students_data = (\"../Resources/students_complete.csv\")\n",
    "print (schools_data)\n",
    "print (students_data)\n"
   ]
  },
  {
   "cell_type": "code",
   "execution_count": null,
   "metadata": {},
   "outputs": [],
   "source": [
    "# Read School Data File and store into Pandas DataFrames\n",
    "schools_data_df = pd.read_csv(schools_data)\n",
    "schools_data_df.head()\n"
   ]
  },
  {
   "cell_type": "code",
   "execution_count": null,
   "metadata": {},
   "outputs": [],
   "source": [
    "# Read Student Data File and store into Pandas DataFrames\n",
    "students_data_df = pd.read_csv(students_data)\n",
    "students_data_df.head(20)"
   ]
  },
  {
   "cell_type": "code",
   "execution_count": null,
   "metadata": {},
   "outputs": [],
   "source": [
    "# Combine the data into a single dataset.  \n",
    "school_data_complete = pd.merge(left=students_data_df, right=schools_data_df, how=\"left\", left_on=\"school_name\", right_on=\"school_name\")\n",
    "school_data_complete"
   ]
  },
  {
   "cell_type": "code",
   "execution_count": null,
   "metadata": {},
   "outputs": [],
   "source": [
    "# Clean the Data\n",
    "print(school_data_complete.info())"
   ]
  },
  {
   "cell_type": "code",
   "execution_count": null,
   "metadata": {},
   "outputs": [],
   "source": [
    " "
   ]
  },
  {
   "cell_type": "markdown",
   "metadata": {},
   "source": [
    "## District Summary\n",
    "\n",
    "* Calculate the total number of schools\n",
    "\n",
    "* Calculate the total number of students\n",
    "\n",
    "* Calculate the total budget\n",
    "\n",
    "* Calculate the average math score \n",
    "\n",
    "* Calculate the average reading score\n",
    "\n",
    "* Calculate the percentage of students with a passing math score (70 or greater)\n",
    "\n",
    "* Calculate the percentage of students with a passing reading score (70 or greater)\n",
    "\n",
    "* Calculate the percentage of students who passed math **and** reading (% Overall Passing)\n",
    "\n",
    "* Create a dataframe to hold the above results\n",
    "\n",
    "* Optional: give the displayed data cleaner formatting"
   ]
  },
  {
   "cell_type": "code",
   "execution_count": null,
   "metadata": {},
   "outputs": [],
   "source": []
  },
  {
   "cell_type": "code",
   "execution_count": null,
   "metadata": {},
   "outputs": [],
   "source": [
    "# Explore Data\n",
    "school_data_complete = school_data_complete\n",
    "school_data_complete.columns"
   ]
  },
  {
   "cell_type": "code",
   "execution_count": null,
   "metadata": {},
   "outputs": [],
   "source": [
    "# Total Schools\n",
    "total_schools = (school_data_complete['school_name']).nunique()\n"
   ]
  },
  {
   "cell_type": "code",
   "execution_count": null,
   "metadata": {},
   "outputs": [],
   "source": [
    "# Total Students\n",
    "total_students = (school_data_complete['Student ID']).nunique()\n"
   ]
  },
  {
   "cell_type": "code",
   "execution_count": null,
   "metadata": {},
   "outputs": [],
   "source": [
    "# Total Budget\n",
    "total_budget = school_data_complete['budget'].sum()\n"
   ]
  },
  {
   "cell_type": "code",
   "execution_count": null,
   "metadata": {},
   "outputs": [],
   "source": [
    "# Average Math Score\n",
    "avg_math_score = school_data_complete['math_score'].mean()\n"
   ]
  },
  {
   "cell_type": "code",
   "execution_count": null,
   "metadata": {},
   "outputs": [],
   "source": [
    "# Average Reading Score\n",
    "avg_reading_score = school_data_complete['reading_score'].mean()\n"
   ]
  },
  {
   "cell_type": "code",
   "execution_count": null,
   "metadata": {},
   "outputs": [],
   "source": [
    "# Passing Math Percentage\n",
    "passing_math = 100*len(school_data_complete[school_data_complete['math_score']>=70]) / total_students\n",
    "#https://blog.softhints.com/pandas-count-percentage-value-column/\n",
    "#passing_math_percent100 = passing_math.value_counts(normalize=True).mul(100).round(1).astype(str) + '%'\n",
    "#gives the same answer but with the percentage true and percentage false\n"
   ]
  },
  {
   "cell_type": "code",
   "execution_count": null,
   "metadata": {},
   "outputs": [],
   "source": [
    "# Passing Reading Percentage\n",
    "passing_reading = 100*len(school_data_complete[school_data_complete['reading_score']>=70]) / total_students\n",
    "#https://blog.softhints.com/pandas-count-percentage-value-column/\n",
    "#passing_reading_percent100 = passing_reading.value_counts(normalize=True).mul(100).round(1).astype(str) + '%'\n",
    "#gives the same answer but with the percentage true and percentage false\n"
   ]
  },
  {
   "cell_type": "code",
   "execution_count": null,
   "metadata": {},
   "outputs": [],
   "source": [
    "#Overall Passing Percentage\n",
    "overall_passing = (passing_math / passing_reading) / 2\n",
    "over_all_rate = (overall_passing) * 100\n"
   ]
  },
  {
   "cell_type": "code",
   "execution_count": null,
   "metadata": {},
   "outputs": [],
   "source": [
    "district_summary = pd.DataFrame({\n",
    "    \"Total Schools\": [total_schools],\n",
    "    \"Total Students\": [total_students],\n",
    "    \"Total Budget\": [total_budget],\n",
    "    \"Average Math Score\": [avg_math_score],\n",
    "    \"Average Reading Score\" : [avg_reading_score],\n",
    "    \"% Passing Math\": [passing_math],\n",
    "    \"% Passing Reading\": [passing_reading],\n",
    "    \"% Overall Passing\": [over_all_rate]},  \n",
    "    columns=[\"Total Schools\", \"Total Students\", \"Total Budget\", \"Average Math Score\", \"Average Reading Score\", \"% Passing Math\", \"% Passing Reading\", \"% Overall Passing\"])\n",
    "\n",
    "district_summary"
   ]
  },
  {
   "cell_type": "markdown",
   "metadata": {},
   "source": [
    "## School Summary"
   ]
  },
  {
   "cell_type": "markdown",
   "metadata": {},
   "source": [
    "* Create an overview table that summarizes key metrics about each school, including:\n",
    "  * School Name\n",
    "  * School Type\n",
    "  * Total Students\n",
    "  * Total School Budget\n",
    "  * Per Student Budget\n",
    "  * Average Math Score\n",
    "  * Average Reading Score\n",
    "  * % Passing Math\n",
    "  * % Passing Reading\n",
    "  * % Overall Passing (The percentage of students that passed math **and** reading.)\n",
    "  \n",
    "* Create a dataframe to hold the above results"
   ]
  },
  {
   "cell_type": "code",
   "execution_count": null,
   "metadata": {},
   "outputs": [],
   "source": [
    "#School Names\n",
    "grouped_school_names = school_data_complete.groupby('school_name')\n",
    "grouped_school_names"
   ]
  },
  {
   "cell_type": "code",
   "execution_count": null,
   "metadata": {},
   "outputs": [],
   "source": [
    "#School Type \n",
    "school_type = grouped_school_names['type'].unique().str[0] \n"
   ]
  },
  {
   "cell_type": "code",
   "execution_count": null,
   "metadata": {},
   "outputs": [],
   "source": [
    "#Total Students in Each School\n",
    "school_students = (grouped_school_names['Student ID']).count()\n"
   ]
  },
  {
   "cell_type": "code",
   "execution_count": null,
   "metadata": {},
   "outputs": [],
   "source": [
    "# Total budget for each school\n",
    "schools_budget = (grouped_school_names['budget']).unique()\n"
   ]
  },
  {
   "cell_type": "code",
   "execution_count": null,
   "metadata": {},
   "outputs": [],
   "source": [
    "# School expenditures per student\n",
    "per_student_budget = schools_budget / school_students\n",
    "per_student_budget\n"
   ]
  },
  {
   "cell_type": "code",
   "execution_count": null,
   "metadata": {},
   "outputs": [],
   "source": [
    "#Average Math Score per School\n",
    "school_avg_math_score = grouped_school_names['math_score'].mean()\n"
   ]
  },
  {
   "cell_type": "code",
   "execution_count": null,
   "metadata": {},
   "outputs": [],
   "source": [
    "#Average reading Score per School\n",
    "school_avg_reading_score = grouped_school_names['reading_score'].mean()\n"
   ]
  },
  {
   "cell_type": "markdown",
   "metadata": {},
   "source": []
  },
  {
   "cell_type": "code",
   "execution_count": null,
   "metadata": {},
   "outputs": [],
   "source": [
    "# Students Passing math totals by school\n",
    "#school_math_pass = 100*len(schools_data_complete_df[schools_data_complete_df['reading_score']>=70]) / total_students\n",
    "\n",
    "passing_math_df = school_data_complete[school_data_complete['math_score']>=70]\n",
    "\n",
    "perc_passing_math_df = (passing_math_df.groupby('school_name').count()['math_score'] / school_students)*100\n",
    "\n"
   ]
  },
  {
   "cell_type": "code",
   "execution_count": null,
   "metadata": {},
   "outputs": [],
   "source": [
    "# Passing reading totals by school\n",
    "passing_reading_df = school_data_complete[school_data_complete['reading_score']>=70]\n",
    "\n",
    "perc_passing_reading_df = (passing_reading_df.groupby('school_name').count()['reading_score'] / school_students)*100\n",
    "\n"
   ]
  },
  {
   "cell_type": "code",
   "execution_count": null,
   "metadata": {},
   "outputs": [],
   "source": [
    "#Passing math percentage by school\n",
    "over_all_sch_avg = (perc_passing_math_df / perc_passing_reading_df) * 100\n",
    "\n"
   ]
  },
  {
   "cell_type": "code",
   "execution_count": null,
   "metadata": {},
   "outputs": [],
   "source": [
    "# School Summary\n",
    "grouped_school_names_df = pd.DataFrame({\n",
    "    \"School Type\": school_type,\n",
    "    \"Total Students\": school_students,\n",
    "    \"Total School Budget\": schools_budget,\n",
    "    \"Per Student Budget\": per_student_budget,\n",
    "    \"Average Math Score\": school_avg_math_score,\n",
    "    \"Average Reading Score\": school_avg_reading_score,\n",
    "    \"% Passing Math\": perc_passing_math_df,\n",
    "    \"% Passing Reading\": perc_passing_reading_df,\n",
    "    \"% Overall Passing\": over_all_sch_avg,},  \n",
    "    columns=[\"School Type\", \"Total Students\", \"Total School Budget\", \"Per Student Budget\", \"Average Math Score\", \"Average Reading Score\", \"% Passing Math\", \"% Passing Reading\", \"% Overall Passing\"])\n",
    "\n",
    "grouped_school_names_df"
   ]
  },
  {
   "cell_type": "markdown",
   "metadata": {},
   "source": [
    "## Top Performing Schools (By % Overall Passing)"
   ]
  },
  {
   "cell_type": "markdown",
   "metadata": {},
   "source": [
    "* Sort and display the top five performing schools by % overall passing."
   ]
  },
  {
   "cell_type": "code",
   "execution_count": null,
   "metadata": {
    "scrolled": true
   },
   "outputs": [],
   "source": [
    "#grouped_school_names_df.nlargest(5, '% Overall Pass', 'first')\n",
    "grouped_school_names_df.sort_values('% Overall Passing', ascending=False).head()"
   ]
  },
  {
   "cell_type": "markdown",
   "metadata": {},
   "source": [
    "## Bottom Performing Schools (By % Overall Passing)"
   ]
  },
  {
   "cell_type": "markdown",
   "metadata": {},
   "source": [
    "* Sort and display the five worst-performing schools by % overall passing."
   ]
  },
  {
   "cell_type": "code",
   "execution_count": null,
   "metadata": {},
   "outputs": [],
   "source": [
    "# grouped_school_names_df.nlargest(5, '% Overall Pass', 'last')\n",
    "#bps = over_all_sch_avg.min\n",
    "#bps\n",
    "grouped_school_names_df.sort_values('% Overall Passing', ascending=True).head()"
   ]
  },
  {
   "cell_type": "markdown",
   "metadata": {},
   "source": [
    "## Math Scores by Grade"
   ]
  },
  {
   "cell_type": "markdown",
   "metadata": {},
   "source": [
    "* Create a table that lists the average Reading Score for students of each grade level (9th, 10th, 11th, 12th) at each school.\n",
    "\n",
    "  * Create a pandas series for each grade. Hint: use a conditional statement.\n",
    "  \n",
    "  * Group each series by school\n",
    "  \n",
    "  * Combine the series into a dataframe\n",
    "  \n",
    "  * Optional: give the displayed data cleaner formatting"
   ]
  },
  {
   "cell_type": "code",
   "execution_count": null,
   "metadata": {},
   "outputs": [],
   "source": [
    "ninth_grade = school_data_complete[school_data_complete['grade']=='9th'].groupby('school_name')\n",
    "ninth_grade.head()\n",
    "    \n"
   ]
  },
  {
   "cell_type": "code",
   "execution_count": null,
   "metadata": {},
   "outputs": [],
   "source": [
    "tenth_grade = school_data_complete[school_data_complete['grade']=='10th'].groupby('school_name')\n",
    "tenth_grade.head()"
   ]
  },
  {
   "cell_type": "code",
   "execution_count": null,
   "metadata": {},
   "outputs": [],
   "source": [
    "eleventh_grade = school_data_complete[school_data_complete['grade']=='11th'].groupby('school_name')\n",
    "eleventh_grade.head()"
   ]
  },
  {
   "cell_type": "code",
   "execution_count": null,
   "metadata": {},
   "outputs": [],
   "source": [
    "twelth_grade = school_data_complete[school_data_complete['grade']=='12th'].groupby('school_name')\n",
    "twelth_grade.head()"
   ]
  },
  {
   "cell_type": "code",
   "execution_count": null,
   "metadata": {},
   "outputs": [],
   "source": [
    "math_scores_df = pd.DataFrame({\n",
    "    '9th': ninth_grade['math_score'].mean(),\n",
    "    '10th': tenth_grade['math_score'].mean(),\n",
    "    '11th': eleventh_grade['math_score'].mean(),\n",
    "    '12th': twelth_grade['math_score'].mean()},\n",
    "    columns=['9th', '10th', '11th', '12th'])\n",
    "\n",
    "math_scores_df"
   ]
  },
  {
   "cell_type": "code",
   "execution_count": null,
   "metadata": {},
   "outputs": [],
   "source": []
  },
  {
   "cell_type": "markdown",
   "metadata": {},
   "source": [
    "## Reading Score by Grade "
   ]
  },
  {
   "cell_type": "markdown",
   "metadata": {},
   "source": [
    "* Perform the same operations as above for reading scores"
   ]
  },
  {
   "cell_type": "code",
   "execution_count": null,
   "metadata": {},
   "outputs": [],
   "source": [
    "reading_scores_df = pd.DataFrame({\n",
    "    '9th': ninth_grade['reading_score'].mean(),\n",
    "    '10th': tenth_grade['reading_score'].mean(),\n",
    "    '11th': eleventh_grade['reading_score'].mean(),\n",
    "    '12th': twelth_grade['reading_score'].mean()},\n",
    "    columns=['9th', '10th', '11th', '12th'])\n",
    "\n",
    "reading_scores_df"
   ]
  },
  {
   "cell_type": "code",
   "execution_count": null,
   "metadata": {},
   "outputs": [],
   "source": []
  },
  {
   "cell_type": "markdown",
   "metadata": {},
   "source": [
    "## Scores by School Spending"
   ]
  },
  {
   "cell_type": "markdown",
   "metadata": {},
   "source": [
    "* Create a table that breaks down school performances based on average Spending Ranges (Per Student). Use 4 reasonable bins to group school spending. Include in the table each of the following:\n",
    "  * Average Math Score\n",
    "  * Average Reading Score\n",
    "  * % Passing Math\n",
    "  * % Passing Reading\n",
    "  * Overall Passing Rate (Average of the above two)"
   ]
  },
  {
   "cell_type": "code",
   "execution_count": null,
   "metadata": {},
   "outputs": [],
   "source": [
    "# Create per student spending bins\n",
    "spending_bins = [0, 580, 610, 640, 670]\n",
    "group_spending = ['0  to  580', '581 to 610', '611 to 640', '641 to 670']\n",
    "group_spending\n",
    "\n",
    "# Calculate budget columns\n",
    "school_data_complete['spending_range'] = school_data_complete['budget'] / school_data_complete['size']\n",
    "school_data_complete['school_spending'] = pd.cut(school_data_complete['spending_range'], spending_bins, labels=group_spending)\n",
    "\n",
    "# Group school data\n",
    "school_spending_group = school_data_complete.groupby('spending_range')\n",
    "spending_total_students = school_data_complete['Student ID'].count()\n",
    "spending_math_avg = school_data_complete['math_score'].mean()\n",
    "spending_reading_avg = school_data_complete['reading_score'].mean()\n",
    "\n",
    "# Spending Math Average\n",
    "spending_math_pass = school_data_complete[school_data_complete['math_score']>=70].groupby('school_spending')['math_score'].count()\n",
    "perc_spending_math_pass = (spending_math_pass / spending_total_students)*100                                                                                                          \n",
    "                                                                                                             \n",
    "# Spending Reading Average\n",
    "spending_reading_pass = school_data_complete[school_data_complete['reading_score']>=70].groupby('school_spending')['reading_score'].count()\n",
    "perc_spending_reading_pass = (spending_reading_pass / spending_total_students)*100     \n",
    "\n",
    "# Overall Spending/Passing Rate\n",
    "overall_spending_pass = (perc_spending_math_pass / perc_spending_reading_pass)/2\n",
    "\n",
    "# Scores by School Spending Summary\n",
    "school_spending_summary_df = pd.DataFrame({\n",
    "    'Average Math Score': spending_math_avg,\n",
    "    'Average Reading Score': spending_reading_avg,\n",
    "    '% Passing Math': perc_spending_math_pass,\n",
    "    '% Passing Reading': perc_spending_reading_pass,\n",
    "    'Overall Passing Rate': (overall_spending_pass)*100},\n",
    "columns=['Average Math Score', 'Average Reading Score', '% Passing Math', '% Passing Reading', 'Overall Passing Rate']\n",
    ")\n",
    "\n",
    "school_spending_summary_df"
   ]
  },
  {
   "cell_type": "code",
   "execution_count": null,
   "metadata": {},
   "outputs": [],
   "source": []
  },
  {
   "cell_type": "markdown",
   "metadata": {},
   "source": [
    "## Scores by School Size"
   ]
  },
  {
   "cell_type": "markdown",
   "metadata": {},
   "source": [
    "* Perform the same operations as above, based on school size."
   ]
  },
  {
   "cell_type": "code",
   "execution_count": 4,
   "metadata": {
    "scrolled": true
   },
   "outputs": [
    {
     "ename": "SyntaxError",
     "evalue": "invalid syntax (<ipython-input-4-7b1b127707f0>, line 12)",
     "output_type": "error",
     "traceback": [
      "\u001b[1;36m  File \u001b[1;32m\"<ipython-input-4-7b1b127707f0>\"\u001b[1;36m, line \u001b[1;32m12\u001b[0m\n\u001b[1;33m    school_size_group = school_data_complete.groupby('school size')\u001b[0m\n\u001b[1;37m    ^\u001b[0m\n\u001b[1;31mSyntaxError\u001b[0m\u001b[1;31m:\u001b[0m invalid syntax\n"
     ]
    }
   ],
   "source": [
    "# Create per school size spending bins\n",
    "size_bins = [0, 2000, 3000, 4000, 5000]\n",
    "group_size = ['0  to  1500', '1501 to 3000', '3001 to 3500', '3501 to 5000']\n",
    "\n",
    "\n",
    "# Calculate school size columns\n",
    "\n",
    "school_data_complete['school size'] = pd.cut(school_data_complete['size'], size_bins, labels=group_size\n",
    "\n",
    "\n",
    "# Group school data\n",
    "school_size_group = school_data_complete.groupby('school size')\n",
    "size_total_students = school_size_group['Student ID'].count()\n",
    "size_math_avg = _school_size_group['math_score'].mean()\n",
    "size_reading_avg = school_size_group['reading_score'].mean()\n",
    "\n",
    "# School Size Average\n",
    "size_math_pass = school_data_complete[school_data_complete['math_score']>=70].groupby('school size')['math_score'].count()\n",
    "perc_size_math_pass = (size_math_pass / size_total_students)*100                                                                                                          \n",
    "                                                                                                             \n",
    "# School Size Reading Average\n",
    "size_reading_pass = school_data_complete[school_data_complete['size']>=70].groupby('school size')['reading_score'].count()\n",
    "perc_size_reading_pass = (size_reading_pass / size_total_students)*100     \n",
    "\n",
    "# Overall School Size Passing Rate\n",
    "overall_size_pass = (perc_size_math_pass / perc_size_reading_pass)/2\n",
    "\n",
    "# Scores by School Size Summary\n",
    "school_size_summary_df = pd.DataFrame({\n",
    "    'Average Math Score': size_math_avg,\n",
    "    'Average Reading Score': size_reading_avg,\n",
    "    '% Passing Math': perc_size_math_pass,\n",
    "    '% Passing Reading': perc_size_reading_pass,\n",
    "    'Overall Passing Rate': (overall_size_pass)*100},\n",
    "columns=['Average Math Score', 'Average Reading Score', '% Passing Math', '% Passing Reading', 'Overall Passing Rate']\n",
    ")\n",
    "\n",
    "school_size_summary_df"
   ]
  },
  {
   "cell_type": "markdown",
   "metadata": {},
   "source": [
    "## Scores by School Type"
   ]
  },
  {
   "cell_type": "markdown",
   "metadata": {},
   "source": [
    "* Perform the same operations as above, based on school type"
   ]
  },
  {
   "cell_type": "code",
   "execution_count": 3,
   "metadata": {},
   "outputs": [
    {
     "ename": "NameError",
     "evalue": "name 'pd' is not defined",
     "output_type": "error",
     "traceback": [
      "\u001b[1;31m---------------------------------------------------------------------------\u001b[0m",
      "\u001b[1;31mNameError\u001b[0m                                 Traceback (most recent call last)",
      "\u001b[1;32m<ipython-input-3-276ec9eb8ffa>\u001b[0m in \u001b[0;36m<module>\u001b[1;34m\u001b[0m\n\u001b[0;32m      5\u001b[0m \u001b[1;33m\u001b[0m\u001b[0m\n\u001b[0;32m      6\u001b[0m \u001b[1;31m# Calculate school type columns\u001b[0m\u001b[1;33m\u001b[0m\u001b[1;33m\u001b[0m\u001b[1;33m\u001b[0m\u001b[0m\n\u001b[1;32m----> 7\u001b[1;33m \u001b[0mschool_data_complete\u001b[0m\u001b[1;33m[\u001b[0m\u001b[1;34m'school type'\u001b[0m\u001b[1;33m]\u001b[0m \u001b[1;33m=\u001b[0m \u001b[0mpd\u001b[0m\u001b[1;33m.\u001b[0m\u001b[0mcut\u001b[0m\u001b[1;33m(\u001b[0m\u001b[0mschool_data_complete\u001b[0m\u001b[1;33m[\u001b[0m\u001b[1;34m'type'\u001b[0m\u001b[1;33m]\u001b[0m\u001b[1;33m,\u001b[0m \u001b[0msize_bins\u001b[0m\u001b[1;33m,\u001b[0m \u001b[0mlabels\u001b[0m\u001b[1;33m=\u001b[0m\u001b[0mtype_size\u001b[0m\u001b[1;33m)\u001b[0m\u001b[1;33m\u001b[0m\u001b[1;33m\u001b[0m\u001b[0m\n\u001b[0m\u001b[0;32m      8\u001b[0m \u001b[1;33m\u001b[0m\u001b[0m\n\u001b[0;32m      9\u001b[0m \u001b[1;33m\u001b[0m\u001b[0m\n",
      "\u001b[1;31mNameError\u001b[0m: name 'pd' is not defined"
     ]
    }
   ],
   "source": [
    "# Create per school type bins\n",
    "type_bins = [0, 2000, 3000, 4000, 5000]\n",
    "type_size = ['0  to  1500', '1501 to 3000', '3001 to 3500', '3501 to 5000']\n",
    "\n",
    "\n",
    "# Calculate school type columns\n",
    "school_data_complete['school type'] = pd.cut(school_data_complete['type'], size_bins, labels=type_size)\n",
    "\n",
    "\n",
    "# Group school data\n",
    "school_type_group = school_data_complete.groupby('school type')\n",
    "size_total_students = school_type_group['Student ID'].count()\n",
    "size_math_avg = school_type_group['math_score'].mean()\n",
    "size_reading_avg = school_type_group['reading_score'].mean()\n",
    "\n",
    "# School Size Average\n",
    "type_math_pass = school_data_complete[school_data_complete['math_score']>=70].groupby('school type')['math_score'].count()\n",
    "perc_type_math_pass = (type_math_pass / type_total_students)*100                                                                                                          \n",
    "                                                                                                             \n",
    "# School Size Reading Average\n",
    "type_reading_pass = school_data_complete[school_data_complete['reading_score']>=70].groupby('school type')['reading_score'].count()\n",
    "perc_type_reading_pass = (type_reading_pass / type_total_students)*100     \n",
    "\n",
    "# Overall School Size Passing Rate\n",
    "overall_type_pass = (perc_type_math_pass / perc_type_reading_pass)/2\n",
    "\n",
    "# Scores by School Type Summary\n",
    "school_type_summary_df = pd.DataFrame({\n",
    "    'Average Math Score': type_math_avg,\n",
    "    'Average Reading Score': type_reading_avg,\n",
    "    '% Passing Math': perc_type_math_pass,\n",
    "    '% Passing Reading': perc_type_reading_pass,\n",
    "    'Overall Passing Rate': (overall_type_pass)*100},\n",
    "columns=['Average Math Score', 'Average Reading Score', '% Passing Math', '% Passing Reading', 'Overall Passing Rate']\n",
    ")\n",
    "\n",
    "school_type_summary_df"
   ]
  },
  {
   "cell_type": "code",
   "execution_count": null,
   "metadata": {},
   "outputs": [],
   "source": []
  },
  {
   "cell_type": "code",
   "execution_count": null,
   "metadata": {},
   "outputs": [],
   "source": []
  },
  {
   "cell_type": "code",
   "execution_count": null,
   "metadata": {},
   "outputs": [],
   "source": []
  },
  {
   "cell_type": "code",
   "execution_count": null,
   "metadata": {},
   "outputs": [],
   "source": []
  },
  {
   "cell_type": "code",
   "execution_count": null,
   "metadata": {},
   "outputs": [],
   "source": []
  },
  {
   "cell_type": "code",
   "execution_count": null,
   "metadata": {},
   "outputs": [],
   "source": []
  },
  {
   "cell_type": "code",
   "execution_count": null,
   "metadata": {},
   "outputs": [],
   "source": []
  },
  {
   "cell_type": "code",
   "execution_count": null,
   "metadata": {},
   "outputs": [],
   "source": []
  },
  {
   "cell_type": "code",
   "execution_count": null,
   "metadata": {},
   "outputs": [],
   "source": []
  }
 ],
 "metadata": {
  "anaconda-cloud": {},
  "kernel_info": {
   "name": "python3"
  },
  "kernelspec": {
   "display_name": "Python 3",
   "language": "python",
   "name": "python3"
  },
  "language_info": {
   "codemirror_mode": {
    "name": "ipython",
    "version": 3
   },
   "file_extension": ".py",
   "mimetype": "text/x-python",
   "name": "python",
   "nbconvert_exporter": "python",
   "pygments_lexer": "ipython3",
   "version": "3.8.5"
  },
  "latex_envs": {
   "LaTeX_envs_menu_present": true,
   "autoclose": false,
   "autocomplete": true,
   "bibliofile": "biblio.bib",
   "cite_by": "apalike",
   "current_citInitial": 1,
   "eqLabelWithNumbers": true,
   "eqNumInitial": 1,
   "hotkeys": {
    "equation": "Ctrl-E",
    "itemize": "Ctrl-I"
   },
   "labels_anchors": false,
   "latex_user_defs": false,
   "report_style_numbering": false,
   "user_envs_cfg": false
  },
  "nteract": {
   "version": "0.8.4"
  }
 },
 "nbformat": 4,
 "nbformat_minor": 4
}
